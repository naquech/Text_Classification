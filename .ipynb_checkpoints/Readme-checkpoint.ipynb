{
 "cells": [
  {
   "cell_type": "markdown",
   "metadata": {},
   "source": [
    "# Text Classification\n",
    "\n",
    "## Sentiment Analysis on Global Warming\n",
    "\n",
    "<p>Understand emotions, identofy opinions and attitudes towards climate change/global warming through twitter posts and classify viewpoints as positive, negative or neutral.</p>\n",
    "\n",
    "<p>The data set for this project is sourced from Figure Eight platform and the name of the set is Sentiment Analysis on Global Warming/Climate Change. The set contains three classifications: Yes if the tweet suggests global warming existence, No if the tweet is in disagreement, and neutral if the tweet is not engaged on either side. A column with the confidence score for the classification of each tweet is included in the set with a total of 6090 rows.</p>\n",
    "\n",
    "<img src=\"Images/sent_dist.png\">\n",
    "\n",
    "### Process\n",
    "\n",
    "* The whole dataset will be cleaned and prepared, after this process I will make the split into train and test data.\n",
    "* Lowercase all text\n",
    "* Remove stop words, punctuation and special characters\n",
    "* Tokenize data: split a string of text into individual tokens (words)\n",
    "* Remove suffixes using stemming technique\n",
    "\n",
    "##### Tweet before processing\n",
    "\n",
    "<img src=\"Images/before.png\">\n",
    "\n",
    "##### Tweet after processing\n",
    "\n",
    "<img src=\"Images/after.png\">\n",
    "\n",
    "### Models Overview\n",
    "\n",
    "#### RNN - LSTM\n",
    "\n",
    "<img src=\"Images/lstm.png\">\n",
    "<img src=\"Images/cm_lstm.png\">\n",
    "\n",
    "\n",
    "#### RNN - GRU\n",
    "\n",
    "<img src=\"Images/gru_summary.png\">\n",
    "<img src=\"Images/gru_cm.png\">\n",
    "\n",
    "\n",
    "#### CNN\n",
    "\n",
    "<img src=\"Images/cnn_summary.png\">\n",
    "<img src=\"Images/cnn_cm.png\">\n",
    "\n",
    "\n",
    "### Summary\n",
    "\n",
    "* RNN with LSTM loss: 0.3046527626316604, acc: 0.9239079379990606\n",
    "* RNN with GRU loss:0.29606976192322076, acc: 0.9253170502583372\n",
    "* CNN loss: 0.32124241268565856, acc: 0.92555190230155\n",
    "* The accuracies of each model are very close but the recurrent neural network  with GRU cells gives a less loss with an accuracy very close to a CNN.\n",
    "\n"
   ]
  },
  {
   "cell_type": "code",
   "execution_count": null,
   "metadata": {},
   "outputs": [],
   "source": []
  }
 ],
 "metadata": {
  "kernelspec": {
   "display_name": "Python 3",
   "language": "python",
   "name": "python3"
  },
  "language_info": {
   "codemirror_mode": {
    "name": "ipython",
    "version": 3
   },
   "file_extension": ".py",
   "mimetype": "text/x-python",
   "name": "python",
   "nbconvert_exporter": "python",
   "pygments_lexer": "ipython3",
   "version": "3.7.2"
  }
 },
 "nbformat": 4,
 "nbformat_minor": 2
}
